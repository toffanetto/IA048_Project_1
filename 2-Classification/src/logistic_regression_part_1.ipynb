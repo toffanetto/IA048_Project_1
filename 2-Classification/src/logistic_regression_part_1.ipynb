{
 "cells": [
  {
   "cell_type": "code",
   "execution_count": 1,
   "metadata": {},
   "outputs": [
    {
     "name": "stderr",
     "output_type": "stream",
     "text": [
      "/home/toffanetto/.local/lib/python3.10/site-packages/matplotlib/projections/__init__.py:63: UserWarning: Unable to import Axes3D. This may be due to multiple versions of Matplotlib being installed (e.g. as a system package and as a pip package). As a result, the 3D projection is not available.\n",
      "  warnings.warn(\"Unable to import Axes3D. This may be due to multiple versions of \"\n"
     ]
    }
   ],
   "source": [
    "# @toffanetto\n",
    "import numpy as np\n",
    "import classification as cl\n",
    "import matplotlib.pyplot as plt"
   ]
  },
  {
   "cell_type": "code",
   "execution_count": 2,
   "metadata": {},
   "outputs": [],
   "source": [
    "# Getting train data\n",
    "X_train, y_train = cl.getData(train=True, raw= False)\n",
    "\n",
    "# Getting test data\n",
    "X_test, y_test = cl.getData(train=False, raw= False)"
   ]
  },
  {
   "cell_type": "code",
   "execution_count": 3,
   "metadata": {},
   "outputs": [],
   "source": [
    "# Training\n",
    "\n",
    "W, RMSE_sample, hit, not_hit = cl.trainClassifier(X=X_train,y=y_train,batch=False)"
   ]
  },
  {
   "cell_type": "code",
   "execution_count": 4,
   "metadata": {},
   "outputs": [
    {
     "name": "stdout",
     "output_type": "stream",
     "text": [
      "Confusion Matrix: \n",
      "[[492.   0.   4.   0.   0.   0.]\n",
      " [  8. 461.   2.   0.   0.   0.]\n",
      " [ 33.  52. 335.   0.   0.   0.]\n",
      " [  0.   3.   0. 487.   0.   1.]\n",
      " [  1.   2.   0. 268. 261.   0.]\n",
      " [  0.   0.   0.   0.   0. 537.]]\n"
     ]
    }
   ],
   "source": [
    "# Testing\n",
    "\n",
    "y_test_hat, class_y_hat = cl.classify(x=X_test,W=W)\n",
    "\n",
    "# for i in range(len(y_test)):\n",
    "#     print('| '+str(y_test[i])+' -> '+str(class_y_hat[i]))\n",
    "\n",
    "confusion_matrix, hit_rate, not_hit_rate = cl.rateModel(y=y_test,y_hat=class_y_hat)\n",
    "\n",
    "print('Confusion Matrix: \\n'+str(confusion_matrix))\n"
   ]
  }
 ],
 "metadata": {
  "kernelspec": {
   "display_name": "Python 3",
   "language": "python",
   "name": "python3"
  },
  "language_info": {
   "codemirror_mode": {
    "name": "ipython",
    "version": 3
   },
   "file_extension": ".py",
   "mimetype": "text/x-python",
   "name": "python",
   "nbconvert_exporter": "python",
   "pygments_lexer": "ipython3",
   "version": "3.10.12"
  }
 },
 "nbformat": 4,
 "nbformat_minor": 2
}
