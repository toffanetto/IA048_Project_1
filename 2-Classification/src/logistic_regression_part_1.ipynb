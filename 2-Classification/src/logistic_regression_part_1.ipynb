{
 "cells": [
  {
   "cell_type": "code",
   "execution_count": null,
   "metadata": {},
   "outputs": [],
   "source": [
    "# @toffanetto\n",
    "import numpy as np\n",
    "import classification as cl\n",
    "import matplotlib.pyplot as plt"
   ]
  },
  {
   "cell_type": "code",
   "execution_count": null,
   "metadata": {},
   "outputs": [],
   "source": [
    "# Getting train data\n",
    "X_train, y_train = cl.getData(train=True, raw= False)\n",
    "\n",
    "# Getting test data\n",
    "X_test, y_test = cl.getData(train=False, raw= False)"
   ]
  },
  {
   "cell_type": "code",
   "execution_count": null,
   "metadata": {},
   "outputs": [],
   "source": [
    "# Plotting classes balancing\n",
    "\n"
   ]
  },
  {
   "cell_type": "code",
   "execution_count": null,
   "metadata": {},
   "outputs": [],
   "source": [
    "# Training\n",
    "EPOCHS = 500\n",
    "W, hit_train, hit_val, J_train, J_val = cl.trainClassifier(X=X_train,y=y_train,epochs=EPOCHS,batch=True)\n"
   ]
  },
  {
   "cell_type": "code",
   "execution_count": null,
   "metadata": {},
   "outputs": [],
   "source": [
    "plt.figure()\n",
    "plt.plot(hit_val, label='Validation accuracy')\n",
    "plt.plot(hit_train, label='Training accuracy')\n",
    "plt.xlabel(\"Epochs\")\n",
    "plt.ylabel(\"Accuracy\")\n",
    "plt.title(\"Accuracy by epoch\")\n",
    "plt.legend(loc='lower right')\n",
    "plt.xlim([0,EPOCHS])\n",
    "plt.grid()\n",
    "\n",
    "#plt.savefig(\"../plot/LR_1/Accuracy_by_epoch_batch.pdf\", format=\"pdf\", bbox_inches=\"tight\")"
   ]
  },
  {
   "cell_type": "code",
   "execution_count": null,
   "metadata": {},
   "outputs": [],
   "source": [
    "plt.figure()\n",
    "plt.plot(J_val, label=r'Validation $J_{CE}$')\n",
    "plt.plot(J_train, label=r'Training $J_{CE}$')\n",
    "plt.xlabel(\"Epochs\")\n",
    "plt.ylabel(r\"Cross Entropy [$J_{CE}$]\")\n",
    "plt.title(\"Cross Entropy by epoch\")\n",
    "plt.legend(loc='upper right')\n",
    "plt.xlim([0,EPOCHS])\n",
    "plt.grid()\n",
    "\n",
    "#plt.savefig(\"../plot/LR_1/CE_by_epoch.pdf\", format=\"pdf\", bbox_inches=\"tight\")"
   ]
  },
  {
   "cell_type": "code",
   "execution_count": null,
   "metadata": {},
   "outputs": [],
   "source": [
    "# Testing\n",
    "\n",
    "y_test_hat, class_y_hat = cl.classify(x=X_test,W=W)\n",
    "\n",
    "# for i in range(len(y_test)):\n",
    "#     print('| '+str(y_test[i])+' -> '+str(class_y_hat[i]))\n",
    "\n",
    "confusion_matrix, hit_rate, not_hit_rate = cl.rateModel(y=y_test,y_hat=class_y_hat)\n",
    "\n",
    "print('Confusion Matrix: \\n'+str(confusion_matrix))\n",
    "print('hit_rate = '+str(hit_rate))\n"
   ]
  },
  {
   "cell_type": "code",
   "execution_count": null,
   "metadata": {},
   "outputs": [],
   "source": [
    "# GENERATOR\n",
    "\n",
    "GENERATOR = False\n",
    "\n",
    "if(GENERATOR):\n",
    "    ###### 1\n",
    "\n",
    "    EPOCHS = 300\n",
    "    bat = 'Batch'\n",
    "    val = 'Holdout'\n",
    "    W, hit_train, hit_val, J_train, J_val = cl.trainClassifier(X=X_train,y=y_train,epochs=EPOCHS,batch=True)\n",
    "\n",
    "    plt.figure()\n",
    "    plt.plot(hit_val, label='Validation accuracy')\n",
    "    plt.plot(hit_train, label='Training accuracy')\n",
    "    plt.xlabel(\"Epochs\")\n",
    "    plt.ylabel(\"Accuracy\")\n",
    "    plt.title(\"Accuracy by epoch\")\n",
    "    plt.legend(loc='lower right')\n",
    "    plt.xlim([0,EPOCHS])\n",
    "    plt.grid()\n",
    "\n",
    "    plt.savefig(\"../plot/LR_1/Accuracy_by_epoch-Batch-300.pdf\", format=\"pdf\", bbox_inches=\"tight\")\n",
    "\n",
    "    plt.figure()\n",
    "    plt.plot(J_val, label=r'Validation $J_{CE}$')\n",
    "    plt.plot(J_train, label=r'Training $J_{CE}$')\n",
    "    plt.xlabel(\"Epochs\")\n",
    "    plt.ylabel(r\"Cross Entropy [$J_{CE}$]\")\n",
    "    plt.title(\"Cross Entropy by epoch\")\n",
    "    plt.legend(loc='upper right')\n",
    "    plt.xlim([0,EPOCHS])\n",
    "    plt.grid()\n",
    "\n",
    "    plt.savefig(\"../plot/LR_1/CE_by_epoch-Batch-300.pdf\", format=\"pdf\", bbox_inches=\"tight\")\n",
    "\n",
    "    # Testing\n",
    "\n",
    "    y_test_hat, class_y_hat = cl.classify(x=X_test,W=W)\n",
    "\n",
    "    confusion_matrix, hit_rate, not_hit_rate = cl.rateModel(y=y_test,y_hat=class_y_hat)\n",
    "\n",
    "    print('Epochs: '+str(EPOCHS)+' | Training type: '+str(bat)+' | Validation type: '+str(val))\n",
    "    print('Confusion Matrix: \\n'+str(confusion_matrix))\n",
    "    print('hit_rate = '+str(hit_rate))\n",
    "\n",
    "    ###### 2\n",
    "\n",
    "    EPOCHS = 200\n",
    "    bat = 'Step-by-Step'\n",
    "    val = 'Holdout'\n",
    "    W, hit_train, hit_val, J_train, J_val = cl.trainClassifier(X=X_train,y=y_train,epochs=EPOCHS,batch=False)\n",
    "\n",
    "    plt.figure()\n",
    "    plt.plot(hit_val, label='Validation accuracy')\n",
    "    plt.plot(hit_train, label='Training accuracy')\n",
    "    plt.xlabel(\"Epochs\")\n",
    "    plt.ylabel(\"Accuracy\")\n",
    "    plt.title(\"Accuracy by epoch\")\n",
    "    plt.legend(loc='lower right')\n",
    "    plt.xlim([0,EPOCHS])\n",
    "    plt.grid()\n",
    "\n",
    "    plt.savefig(\"../plot/LR_1/Accuracy_by_epoch-Step-200.pdf\", format=\"pdf\", bbox_inches=\"tight\")\n",
    "\n",
    "    plt.figure()\n",
    "    plt.plot(J_val, label=r'Validation $J_{CE}$')\n",
    "    plt.plot(J_train, label=r'Training $J_{CE}$')\n",
    "    plt.xlabel(\"Epochs\")\n",
    "    plt.ylabel(r\"Cross Entropy [$J_{CE}$]\")\n",
    "    plt.title(\"Cross Entropy by epoch\")\n",
    "    plt.legend(loc='upper right')\n",
    "    plt.xlim([0,EPOCHS])\n",
    "    plt.grid()\n",
    "\n",
    "    plt.savefig(\"../plot/LR_1/CE_by_epoch-Step-200.pdf\", format=\"pdf\", bbox_inches=\"tight\")\n",
    "\n",
    "    # Testing\n",
    "\n",
    "    y_test_hat, class_y_hat = cl.classify(x=X_test,W=W)\n",
    "\n",
    "    confusion_matrix, hit_rate, not_hit_rate = cl.rateModel(y=y_test,y_hat=class_y_hat)\n",
    "\n",
    "    print('Epochs: '+str(EPOCHS)+' | Training type: '+str(bat)+' | Validation type: '+str(val))\n",
    "    print('Confusion Matrix: \\n'+str(confusion_matrix))\n",
    "    print('hit_rate = '+str(hit_rate))\n"
   ]
  }
 ],
 "metadata": {
  "kernelspec": {
   "display_name": "Python 3",
   "language": "python",
   "name": "python3"
  },
  "language_info": {
   "codemirror_mode": {
    "name": "ipython",
    "version": 3
   },
   "file_extension": ".py",
   "mimetype": "text/x-python",
   "name": "python",
   "nbconvert_exporter": "python",
   "pygments_lexer": "ipython3",
   "version": "3.10.12"
  }
 },
 "nbformat": 4,
 "nbformat_minor": 2
}
