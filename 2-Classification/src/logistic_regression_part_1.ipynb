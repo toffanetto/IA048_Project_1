{
 "cells": [
  {
   "cell_type": "code",
   "execution_count": null,
   "metadata": {},
   "outputs": [],
   "source": [
    "# @toffanetto\n",
    "import numpy as np\n",
    "import logistic_regression_classification as cl\n",
    "import matplotlib.pyplot as plt"
   ]
  },
  {
   "cell_type": "code",
   "execution_count": null,
   "metadata": {},
   "outputs": [],
   "source": [
    "# Getting train data\n",
    "X_train, y_train, classes_rate_train = cl.getData(train=True, raw= False)\n",
    "\n",
    "# Getting test data\n",
    "X_test, y_test, classes_rate_test = cl.getData(train=False, raw= False)"
   ]
  },
  {
   "cell_type": "code",
   "execution_count": null,
   "metadata": {},
   "outputs": [],
   "source": [
    "# Training\n",
    "\n",
    "# Select number of epochs and weights iteration in batch or step-by-step\n",
    "EPOCHS = 1000\n",
    "BATCH = 500 # 0 for batch or type mini-batch size\n",
    "\n",
    "W, BA_train, BA_val, J_train, J_val = cl.trainClassifier(X=X_train,y=y_train,epochs=EPOCHS,batch=BATCH,classes_rate=classes_rate_train)\n"
   ]
  },
  {
   "cell_type": "code",
   "execution_count": null,
   "metadata": {},
   "outputs": [],
   "source": [
    "np.save('../model/W_'+str(EPOCHS)+'_epochs_batch_size'+str(BATCH)+'.npy', W)"
   ]
  },
  {
   "cell_type": "code",
   "execution_count": null,
   "metadata": {},
   "outputs": [],
   "source": [
    "n = np.linspace(0,EPOCHS,len(BA_val))\n",
    "\n",
    "plt.figure()\n",
    "plt.plot(BA_train, label='Training accuracy')\n",
    "plt.plot(BA_val, label='Validation accuracy')\n",
    "plt.xlabel(\"Epochs\")\n",
    "plt.ylabel(\"Balanced accuracy (BA)\")\n",
    "plt.title(\"Balanced accuracy by epoch\")\n",
    "plt.legend(loc='lower right')\n",
    "plt.xlim([0,EPOCHS])\n",
    "plt.grid()\n",
    "plt.savefig('../plot/LR_1/BA_'+str(EPOCHS)+'_epochs_batch_size'+str(BATCH)+'.pdf', format=\"pdf\", bbox_inches=\"tight\")"
   ]
  },
  {
   "cell_type": "code",
   "execution_count": null,
   "metadata": {},
   "outputs": [],
   "source": [
    "plt.figure()\n",
    "plt.plot(J_train, label=r'Training $J_{CE}$')\n",
    "plt.plot(J_val, label=r'Validation $J_{CE}$')\n",
    "plt.xlabel(\"Epochs\")\n",
    "plt.ylabel(r\"Cross Entropy [$J_{CE}$]\")\n",
    "plt.title(\"Cross Entropy by epoch\")\n",
    "plt.legend(loc='upper right')\n",
    "plt.xlim([0,EPOCHS])\n",
    "plt.grid()\n",
    "plt.savefig('../plot/LR_1/CE_'+str(EPOCHS)+'_epochs_batch_size'+str(BATCH)+'.pdf', format=\"pdf\", bbox_inches=\"tight\")"
   ]
  },
  {
   "cell_type": "code",
   "execution_count": null,
   "metadata": {},
   "outputs": [],
   "source": [
    "# Testing\n",
    "\n",
    "EPOCHS = 500\n",
    "BATCH = 1000 # 0 for batch or type mini-batch size\n",
    "\n",
    "W = np.load('../model/W_'+str(EPOCHS)+'_epochs_batch_size'+str(BATCH)+'.npy')\n",
    "\n",
    "y_test_hat, class_y_hat = cl.classify(x=X_test,W=W)\n",
    "\n",
    "confusion_matrix, ba = cl.rateModel(y=y_test, y_hat=class_y_hat, classes_rate=classes_rate_test)\n",
    "\n",
    "s = 'Confusion Matrix: \\n'+str(confusion_matrix)+'\\n\\nBA = '+str(ba)+'\\n'\n",
    "\n",
    "try:\n",
    "    f = open('../plot/LR_1/output_'+str(EPOCHS)+'_epochs_batch_size'+str(BATCH)+'.txt', \"x\")\n",
    "except:\n",
    "    f = open('../plot/LR_1/output_'+str(EPOCHS)+'_epochs_batch_size'+str(BATCH)+'.txt', \"w\")\n",
    "f.write(s)\n",
    "f.close()\n",
    "\n",
    "print(s)\n",
    "\n",
    "score = cl.confusionMatrixExtract(confusion_matrix=confusion_matrix)\n",
    "\n",
    "for i in range(1,7):\n",
    "    print(str(i)+'\\t'+str(\"{:.4f}\".format(score[i]['Precision']))+'\\t'+str(\"{:.4f}\".format(score[i]['Recall'])))"
   ]
  }
 ],
 "metadata": {
  "kernelspec": {
   "display_name": "Python 3",
   "language": "python",
   "name": "python3"
  },
  "language_info": {
   "codemirror_mode": {
    "name": "ipython",
    "version": 3
   },
   "file_extension": ".py",
   "mimetype": "text/x-python",
   "name": "python",
   "nbconvert_exporter": "python",
   "pygments_lexer": "ipython3",
   "version": "3.10.12"
  }
 },
 "nbformat": 4,
 "nbformat_minor": 2
}
