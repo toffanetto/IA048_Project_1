{
 "cells": [
  {
   "cell_type": "code",
   "execution_count": null,
   "metadata": {},
   "outputs": [],
   "source": [
    "# @toffanetto\n",
    "import numpy as np\n",
    "import classification as cl"
   ]
  },
  {
   "cell_type": "code",
   "execution_count": null,
   "metadata": {},
   "outputs": [],
   "source": [
    "# Getting train data\n",
    "X_train, y_train = cl.getData(train=True, raw= False)\n",
    "\n",
    "# Getting test data\n",
    "X_test, y_test = cl.getData(train=False, raw= False)"
   ]
  },
  {
   "cell_type": "code",
   "execution_count": 80,
   "metadata": {},
   "outputs": [
    {
     "name": "stdout",
     "output_type": "stream",
     "text": [
      "x_train.shape = (7352, 561)\n",
      "W.shape = (6, 561)\n",
      "1.8954789143001964\n",
      "[[0.00679244 0.0084081  0.00150873 ... 0.0031358  0.00980577 0.00430488]\n",
      " [0.00729445 0.00891055 0.00277325 ... 0.00900694 0.0089297  0.00400647]\n",
      " [0.00563618 0.00063189 0.00857956 ... 0.00212864 0.00078188 0.00841971]\n",
      " [0.00662805 0.00711535 0.00685627 ... 0.00863918 0.00020697 0.00218605]\n",
      " [0.00855543 0.0041532  0.00926085 ... 0.00572031 0.00235689 0.00055114]\n",
      " [0.00064312 0.00643205 0.00941392 ... 0.00802712 0.00052513 0.00601173]]\n"
     ]
    }
   ],
   "source": [
    "NUMBER_OF_CLASSES = 6\n",
    "NUMBER_OF_ATRIBUTES = 561\n",
    "\n",
    "STEP = 0.005\n",
    "\n",
    "def trainClassifier(X, y):\n",
    "    W = np.random.rand(NUMBER_OF_CLASSES, NUMBER_OF_ATRIBUTES)/100 # Rand values in the interval (0, 0,01)\n",
    "\n",
    "    y_ohe = cl.oneHotEncoding(y=y)\n",
    "\n",
    "    print('x_train.shape = '+str(X.shape))\n",
    "    print('W.shape = '+str(W.shape))\n",
    "\n",
    "    for i in range(1):\n",
    "\n",
    "        Xi = X[i, np.newaxis] \n",
    "        \n",
    "        y_hat = Xi.dot(W.T)\n",
    "        \n",
    "        dJCE = (y_ohe[i] - y_hat).T.dot(Xi)\n",
    "        \n",
    "        W = W - STEP*dJCE\n",
    "        \n",
    "        print(np.mean(y_ohe[i] - y_hat))\n",
    "        \n",
    "    print(W)\n",
    "    \n",
    "    return W\n",
    "    \n",
    "W = trainClassifier(X=X_train,y=y_train)\n",
    "\n",
    "# Training"
   ]
  },
  {
   "cell_type": "code",
   "execution_count": 35,
   "metadata": {},
   "outputs": [
    {
     "data": {
      "text/plain": [
       "(561,)"
      ]
     },
     "execution_count": 35,
     "metadata": {},
     "output_type": "execute_result"
    }
   ],
   "source": [
    "X_train[0].shape"
   ]
  },
  {
   "cell_type": "code",
   "execution_count": 39,
   "metadata": {},
   "outputs": [
    {
     "data": {
      "text/plain": [
       "(6,)"
      ]
     },
     "execution_count": 39,
     "metadata": {},
     "output_type": "execute_result"
    }
   ],
   "source": [
    "y_hat.T.shape"
   ]
  }
 ],
 "metadata": {
  "kernelspec": {
   "display_name": "Python 3",
   "language": "python",
   "name": "python3"
  },
  "language_info": {
   "codemirror_mode": {
    "name": "ipython",
    "version": 3
   },
   "file_extension": ".py",
   "mimetype": "text/x-python",
   "name": "python",
   "nbconvert_exporter": "python",
   "pygments_lexer": "ipython3",
   "version": "3.10.12"
  }
 },
 "nbformat": 4,
 "nbformat_minor": 2
}
